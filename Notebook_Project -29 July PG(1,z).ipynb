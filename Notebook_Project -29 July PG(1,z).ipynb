{
 "cells": [
  {
   "cell_type": "code",
   "execution_count": 1,
   "metadata": {
    "colab": {},
    "colab_type": "code",
    "collapsed": false,
    "id": "-cax4F37QmsG"
   },
   "outputs": [],
   "source": [
    "import numpy as np\n",
    "import sklearn as skl\n",
    "import pandas as pd\n",
    "from sklearn import model_selection\n",
    "\n",
    "from scipy.stats import norm\n",
    "\n",
    "import os\n",
    "my_path = os.path.abspath('figs_pos_full')\n",
    "    \n",
    "import matplotlib.pyplot as plt\n",
    "\n",
    "%matplotlib inline"
   ]
  },
  {
   "cell_type": "code",
   "execution_count": null,
   "metadata": {
    "collapsed": true
   },
   "outputs": [],
   "source": []
  },
  {
   "cell_type": "code",
   "execution_count": 2,
   "metadata": {
    "collapsed": false
   },
   "outputs": [],
   "source": [
    "regularizer = 1\n",
    "d = 2\n",
    "T = 5\n",
    "b = np.zeros(d)\n",
    "burn_in_steps = 5\n",
    "N_t = 0\n",
    "observation_set = []\n",
    "\n",
    "x_old = 0\n",
    "\n",
    "a_t = 0\n",
    "z_t_tilde = 0\n",
    "\n",
    "# initializing weights\n",
    "B = np.ones(d) * (1/regularizer) #np.diag( np.repeat(lambda_, d) )\n",
    "#print(self.B.shape)\n",
    "\n",
    "theta_t_m = np.zeros((T, burn_in_steps, d))\n",
    "theta_t_m[0, (burn_in_steps-1), :] = np.random.normal(b, B**(1/2))\n",
    "\n",
    "#self.B = np.identity(self.d) * self.regularizer #np.diag( np.repeat(lambda_, d) )\n",
    "theta_t = np.zeros((T, d))\n",
    "theta_t[0] = np.random.normal(b, B**(1/2))\n",
    "#np.random.normal(self.theta_hat, (self.q_t)**(-1/2.0), size = self.d)\n",
    "\n",
    "######################################################################################\n",
    "\n",
    "# Logistic Function \n",
    "def sigmoid(x):\n",
    "    return 1 / (1 + np.exp(-x))"
   ]
  },
  {
   "cell_type": "code",
   "execution_count": 3,
   "metadata": {
    "collapsed": true
   },
   "outputs": [],
   "source": [
    "def compute_a_n(x, n, born=0.64):\n",
    "    if np.all(x > born):\n",
    "        a_n = np.pi * (n+0.5) * np.exp(- ((n+0.5)**2) * (np.pi**2) * (x/2) )\n",
    "    elif np.all(x <= born):\n",
    "        a_n = np.pi * (n+0.5) * ( (2/(np.pi*x))**(3/2) ) * np.exp(- ((n+0.5)**2) * (2/x) )\n",
    "#     else:\n",
    "#         a_n=0\n",
    "    return a_n\n",
    "\n",
    "def compute_c_g(x, z, born=0.64):\n",
    "    c_g = (np.pi/2) * np.cosh(z)\n",
    "    if np.all(x > born):\n",
    "        c_g *= np.exp(- ( (0.5* z**2) + (np.pi**2)/8 ) * x)\n",
    "    else:\n",
    "        c_g *= ( (2/(np.pi*x))**(3/2) ) * np.exp(-((z**2)*x/2) - (1/(2*x)))\n",
    "    return c_g\n",
    "\n",
    "def compute_X_from_g(x, z, born=0.64):\n",
    "    if all(x > born):\n",
    "        sample_X = np.random.exponential(scale= 1/(-0.5*z**2 + np.pi**2 / 8)) +born\n",
    "        #print('sup, sample', sample_X)\n",
    "    else:\n",
    "        if z==0:\n",
    "            z= 0.001\n",
    "        sample_X = np.random.wald(np.abs(z)**(-1), 1, size=1)\n",
    "        #print('inf, sample', sample_X)\n",
    "    return sample_X"
   ]
  },
  {
   "cell_type": "code",
   "execution_count": 4,
   "metadata": {
    "collapsed": false,
    "scrolled": true
   },
   "outputs": [
    {
     "name": "stdout",
     "output_type": "stream",
     "text": [
      "[[0.31719086 0.08666292]]\n",
      "[ 0.29145764 -0.04514362]\n",
      "[0.08853542]\n"
     ]
    }
   ],
   "source": [
    "x = np.array([np.random.uniform(0,1,d)])\n",
    "print(x)\n",
    "print(theta_t[0])\n",
    "z = x.dot(theta_t[0])\n",
    "print(z)"
   ]
  },
  {
   "cell_type": "code",
   "execution_count": 5,
   "metadata": {
    "collapsed": false
   },
   "outputs": [],
   "source": [
    "# Sn = np.zeros(10)\n",
    "# for i in range(10):\n",
    "#     an = compute_a_n(x,i)\n",
    "#     print(an)\n",
    "#     if i==0:\n",
    "#         Sn[0] = (-1)**i * an\n",
    "#     else:\n",
    "#         Sn[i] = Sn[i-1] + (-1)**i * an\n",
    "# print(Sn)"
   ]
  },
  {
   "cell_type": "code",
   "execution_count": 6,
   "metadata": {
    "collapsed": false,
    "scrolled": false
   },
   "outputs": [],
   "source": [
    "# print(compute_c_g(x, z))\n",
    "# c_g = np.zeros(20)\n",
    "# i=0\n",
    "# for x in np.random.uniform(0,1, 20):\n",
    "#     x = np.array([np.random.uniform(0,1)])\n",
    "#     z = x.dot(theta_t[0])\n",
    "#     c_g[i] = compute_c_g(x,z)\n",
    "#     i+=1\n",
    "# plt.plot(c_g)\n",
    "# print(np.sum(c_g))\n",
    "# print(compute_X_from_g(x,z))"
   ]
  },
  {
   "cell_type": "code",
   "execution_count": 7,
   "metadata": {
    "collapsed": false,
    "scrolled": false
   },
   "outputs": [],
   "source": [
    "# x = np.array([np.random.uniform(0,1, 2)])\n",
    "# x_= x.reshape(-1, d)\n",
    "# accept = False\n",
    "# omega_vect = np.zeros(x_.shape[0])\n",
    "# for i in range(x_.shape[0]):\n",
    "#     z = x_[i].T.dot(theta_t[0])\n",
    "#     print('x_i', x_[i])\n",
    "#     ite=0\n",
    "\n",
    "#     #while not accept:\n",
    "#     # first step\n",
    "#     sample = compute_X_from_g(x_[i], z)\n",
    "#     #print('sample',sample)\n",
    "\n",
    "#     #second step\n",
    "#      # U ~ Unif(0, c_g_z)\n",
    "#     u = np.random.uniform(low=0, high= compute_c_g(sample, z))\n",
    "#     print('u',u)\n",
    "\n",
    "#     # third step\n",
    "#         #if (num % 2 == 0): #number is even \n",
    "#         #else: #number is odd \n",
    "#     Sn=0\n",
    "#     for n in range(50):\n",
    "#     #while \n",
    "#         a_n = compute_a_n(sample, n)\n",
    "#         print('a_n', a_n)\n",
    "#         Sn += (-1)**n * a_n\n",
    "#         print('Sn',Sn, 'n', n)\n",
    "#         if (u <= Sn and n%2 !=0):\n",
    "#             print(sample/4)\n",
    "#             break"
   ]
  },
  {
   "cell_type": "code",
   "execution_count": 8,
   "metadata": {
    "collapsed": false
   },
   "outputs": [],
   "source": [
    "#### new \n",
    "def PG_distribution(x_, theta_):\n",
    "    # Y ~ PG(1, z) <=> Y = X/4 where X ~ J*(1, z/2)\n",
    "    #if (num % 2 == 0): #number is even \n",
    "    #else: #number is odd \n",
    "    #####\n",
    "    #from scipy.stats import norm\n",
    "    \n",
    "    ##########################################################\n",
    "    ## a_n\n",
    "    def compute_a_n(x, n, born=0.64):\n",
    "        if np.all(abs(x) > born):\n",
    "            a_n = np.pi * (n+0.5) * np.exp(- ((n+0.5)**2) * (np.pi**2) * (x/2) )\n",
    "        elif np.all(abs(x) <= born):\n",
    "            a_n = np.pi * (n+0.5) * ( (2/(np.pi*x))**(3/2) ) * np.exp(- ((n+0.5)**2) * (2/x) )\n",
    "        return a_n\n",
    "    \n",
    "    ## pigauss: cdf of IG distribution\n",
    "    def pigauss(mu, lamb, born=0.64):\n",
    "        part1 = norm.cdf( np.sqrt(lamb/born) * ((born/mu) - 1.) )\n",
    "        part2 = np.exp(2*lamb/mu) * norm.cdf(- np.sqrt(lamb/born) * ((born/mu) + 1.) )\n",
    "        cdf = part1 + part2\n",
    "        return cdf\n",
    "    \n",
    "    ## generate from IG\n",
    "    def gen_IG(mu, c=1, born=0.64):\n",
    "        #\n",
    "        mu = abs(mu)\n",
    "        #\n",
    "        z = 1/mu # mu = 1/z\n",
    "        if mu > born:\n",
    "            E, E_prime = np.random.exponential(1, size=2)\n",
    "            sampl = born / (1 + born*E)**2\n",
    "            alpha = np.exp(-0.5 * sampl * z**2)\n",
    "            u = np.random.uniform(0,1)\n",
    "            while u > alpha:\n",
    "                while pow(E, 2) > (2* E_prime/born):\n",
    "                    E, E_prime = np.random.exponential(1, size=2)\n",
    "                sampl = born / (1 + born*E)**2\n",
    "                alpha = np.exp(-0.5 * sampl * z**2)\n",
    "                u = np.random.uniform(0,1)\n",
    "        else:\n",
    "            y = np.random.normal(0,1)**2\n",
    "            sampl = mu + 0.5 * (mu**2) * y - 0.5*mu* np.sqrt(4*mu*y + (mu*y)**2)\n",
    "            u = np.random.uniform(0,1)\n",
    "            if u > (mu/ (mu+sampl)):\n",
    "                sampl = mu**2 / sampl\n",
    "            while sampl > u:\n",
    "                y = np.random.normal(0,1)**2\n",
    "                sampl = mu + 0.5 * (mu**2) * y - 0.5*mu* np.sqrt(4*mu*y + (mu*y)**2)\n",
    "                u = np.random.uniform(0,1)\n",
    "                if u > (mu/ (mu+sampl)):\n",
    "                    sampl = mu**2 / sampl\n",
    "        return sampl\n",
    "    \n",
    "    #######################################################################\n",
    "    \n",
    "    x_ = x_.reshape(-1, d)\n",
    "\n",
    "    #\n",
    "    born = 0.64\n",
    "    z = abs(x_.dot(theta_)) /2\n",
    "    \n",
    "    K = pow(np.pi, 2)/8 + pow(z,2)/2\n",
    "    p = (np.pi / (2*K)) * np.exp(-K*born) # prob\n",
    "    q = 2* np.exp(- abs(z)) * pigauss(mu= (1/z), lamb = 1.0) # prob\n",
    "\n",
    "    # first step: begin\n",
    "    cond = 0 #True\n",
    "    ite=0\n",
    "    while cond<100:\n",
    "        U, V = np.random.uniform(0,1, size=2)\n",
    "        \n",
    "        # second step:begin\n",
    "        if U < (p/(p+q)):\n",
    "            # truncated exponential\n",
    "            sample = born + np.random.exponential(scale=1)/K\n",
    "        else:\n",
    "            # truncated inverse gaussian\n",
    "            mu = abs(1/z) # 1/ abs(z)\n",
    "            \n",
    "            # third step: begin\n",
    "            if mu > born:\n",
    "                \n",
    "                sample = 1 / np.random.chisquare(1)\n",
    "                while np.random.uniform(0,1) >= np.exp(-(sample * z**2 /2)):\n",
    "                    sample = 1 / np.random.chisquare(1)\n",
    "                \n",
    "            else:\n",
    "                #\n",
    "                sample = gen_IG(mu, 1.0, born=0.64) # np.random.wald(mu, 1.0)\n",
    "                while sample >= born:\n",
    "                    sample = gen_IG(mu, 1.0, born=0.64) \n",
    "                \n",
    "            #third step: end\n",
    "        # second step: end\n",
    "        n = 0\n",
    "        S = compute_a_n(sample, n)\n",
    "        Y = V * S\n",
    "        #\n",
    "        cond1 = 0 #True\n",
    "        while cond1<10:\n",
    "            n += 1\n",
    "            if n%2 != 0: # n is odd\n",
    "                S -= compute_a_n(sample, n)\n",
    "                #\n",
    "                if Y < S:\n",
    "                    return sample/4 #omega_vect[i] = sample/4\n",
    "                    \n",
    "            else:\n",
    "                S += compute_a_n(sample, n)\n",
    "                cond1 +=1\n",
    "                if Y > S:\n",
    "                    #cond1 +=1\n",
    "                    break\n",
    "            # end if\n",
    "        #end while\n",
    "        ite +=1\n",
    "        cond +=1\n",
    "    #end while"
   ]
  },
  {
   "cell_type": "code",
   "execution_count": 9,
   "metadata": {
    "collapsed": false
   },
   "outputs": [
    {
     "data": {
      "text/plain": [
       "(2,)"
      ]
     },
     "execution_count": 9,
     "metadata": {},
     "output_type": "execute_result"
    }
   ],
   "source": [
    "theta_t[0].shape"
   ]
  },
  {
   "cell_type": "code",
   "execution_count": 10,
   "metadata": {
    "collapsed": false,
    "scrolled": true
   },
   "outputs": [
    {
     "name": "stdout",
     "output_type": "stream",
     "text": [
      "[0.19194449]\n"
     ]
    }
   ],
   "source": [
    "ome = PG_distribution(np.array(np.random.uniform(0,1, 2)), theta_t[0])\n",
    "print(ome)"
   ]
  },
  {
   "cell_type": "code",
   "execution_count": 11,
   "metadata": {
    "collapsed": false,
    "scrolled": true
   },
   "outputs": [
    {
     "data": {
      "text/plain": [
       "array([ 0.29145764, -0.04514362])"
      ]
     },
     "execution_count": 11,
     "metadata": {},
     "output_type": "execute_result"
    }
   ],
   "source": [
    "theta_t[0]"
   ]
  },
  {
   "cell_type": "code",
   "execution_count": 12,
   "metadata": {
    "collapsed": false,
    "scrolled": true
   },
   "outputs": [],
   "source": [
    "mu = 0.0\n",
    "sigmasq = 1.0\n",
    "\n",
    "N_samples = 1000\n",
    "N=10\n",
    "y = np.random.binomial(N, 0.5)\n",
    "\n",
    "xs = np.random.uniform(-1,1, (N_samples,2)) # np.zeros(N_samples)\n",
    "omegas = np.ones(N_samples)\n",
    "\n",
    "# Now run the Gibbs sampler\n",
    "for i in range(1, N_samples):\n",
    "    # Sample omega given x, y from its PG conditional\n",
    "    omegas[i] = PG_distribution(np.array(xs[i]), theta_t[0])\n",
    "    #print(omegas[i])\n",
    "\n",
    "    # Sample x given omega, y from its Gaussian conditional\n",
    "    sigmasq_hat = 1./(1. / sigmasq + omegas[i])\n",
    "    mu_hat = sigmasq_hat * (mu / sigmasq + (y - N / 2.))\n",
    "    xs[i] = np.random.normal(mu_hat, np.sqrt(sigmasq_hat))\n",
    "#print(xs)\n",
    "#print('omega', omegas[i])"
   ]
  },
  {
   "cell_type": "code",
   "execution_count": 13,
   "metadata": {
    "collapsed": false
   },
   "outputs": [
    {
     "data": {
      "text/plain": [
       "(1000, 2)"
      ]
     },
     "execution_count": 13,
     "metadata": {},
     "output_type": "execute_result"
    }
   ],
   "source": [
    "xs.shape"
   ]
  },
  {
   "cell_type": "code",
   "execution_count": 14,
   "metadata": {
    "collapsed": false
   },
   "outputs": [
    {
     "data": {
      "text/plain": [
       "[<matplotlib.lines.Line2D at 0x7f0bbf44cc88>]"
      ]
     },
     "execution_count": 14,
     "metadata": {},
     "output_type": "execute_result"
    },
    {
     "data": {
      "image/png": "[encoded data removed]",
      "text/plain": [
       "<Figure size 432x288 with 1 Axes>"
      ]
     },
     "metadata": {
      "needs_background": "light"
     },
     "output_type": "display_data"
    }
   ],
   "source": [
    "xs0 = np.sort(xs[:,0])\n",
    "plt.plot(xs0, norm.pdf(xs0))"
   ]
  },
  {
   "cell_type": "code",
   "execution_count": 149,
   "metadata": {
    "collapsed": true
   },
   "outputs": [],
   "source": [
    "## True State Modelling\n",
    "def fun_m_omega(x, V, kapa):\n",
    "    # kapa: vector of regret_j - (1/2) for j=1,...,t\n",
    "    # V: matrix d*d, the covariance matrix\n",
    "    # m: vector dimension d, the mean\n",
    "    # x: context\n",
    "    x = x.reshape(-1, d)\n",
    "    B_inv = np.identity(d) * regularizer\n",
    "    \n",
    "    m = V @ ( (x.T).dot(kapa) + B_inv.dot(b) )\n",
    "    #print(m)\n",
    "    return m\n",
    "\n",
    "\n",
    "#######################\n",
    "\n",
    "def fun_V_omega(x, omega_vec):\n",
    "    # x is a matrix of context upto episode t\n",
    "    # Omega: a diagonal matrix of omega_vec\n",
    "    # B: diagonal matrix of (1/lambda)\n",
    "\n",
    "    x = x.reshape(-1, d)\n",
    "    Omega = np.diag(omega_vec).reshape(-1, x.shape[0])\n",
    "    #print(Omega.shape)\n",
    "    B_inv = np.identity(d) * regularizer\n",
    "\n",
    "    prod = (x.T @ Omega).dot(x)\n",
    "    V = np.linalg.inv(prod + B_inv)\n",
    "    return V"
   ]
  },
  {
   "cell_type": "code",
   "execution_count": 150,
   "metadata": {
    "collapsed": false
   },
   "outputs": [
    {
     "name": "stdout",
     "output_type": "stream",
     "text": [
      "[0.81258021 0.05886311]\n"
     ]
    }
   ],
   "source": [
    "regularizer = 1\n",
    "d = 2\n",
    "T = 120\n",
    "b = np.zeros(d)\n",
    "burn_in_steps = 200\n",
    "N_t = 0\n",
    "observation_set = []\n",
    "\n",
    "x_old = 0\n",
    "\n",
    "a_t = 0\n",
    "z_t_tilde = 0\n",
    "\n",
    "# initializing weights\n",
    "B = np.identity(d) * (1/regularizer) #np.diag( np.repeat(lambda_, d) )\n",
    "#print(self.B.shape)\n",
    "\n",
    "theta_t_m = np.zeros((T, burn_in_steps, d))\n",
    "theta_t_m[0, (burn_in_steps-1), :] = np.random.multivariate_normal(b, B**(1/2))\n",
    "\n",
    "#self.B = np.identity(self.d) * self.regularizer #np.diag( np.repeat(lambda_, d) )\n",
    "theta_t = np.zeros((T, d))\n",
    "theta_t[0] = np.random.multivariate_normal(b, B**(1/2))\n",
    "#np.random.normal(self.theta_hat, (self.q_t)**(-1/2.0), size = self.d)\n",
    "print(theta_t[0])\n"
   ]
  },
  {
   "cell_type": "code",
   "execution_count": null,
   "metadata": {
    "collapsed": false
   },
   "outputs": [],
   "source": []
  },
  {
   "cell_type": "code",
   "execution_count": 151,
   "metadata": {
    "collapsed": false,
    "scrolled": true
   },
   "outputs": [
    {
     "name": "stdout",
     "output_type": "stream",
     "text": [
      "t 0\n",
      "t 1\n",
      "t 2\n"
     ]
    },
    {
     "name": "stderr",
     "output_type": "stream",
     "text": [
      "/home/awa/miniconda3/lib/python3.7/site-packages/ipykernel_launcher.py:66: RuntimeWarning: divide by zero encountered in true_divide\n"
     ]
    },
    {
     "name": "stdout",
     "output_type": "stream",
     "text": [
      "t 3\n",
      "t 4\n",
      "t 5\n",
      "t 6\n",
      "t 7\n",
      "t 8\n",
      "t 9\n"
     ]
    },
    {
     "name": "stderr",
     "output_type": "stream",
     "text": [
      "/home/awa/miniconda3/lib/python3.7/site-packages/ipykernel_launcher.py:15: RuntimeWarning: invalid value encountered in power\n",
      "  from ipykernel import kernelapp as app\n"
     ]
    },
    {
     "name": "stdout",
     "output_type": "stream",
     "text": [
      "t 10\n",
      "t 11\n",
      "t 12\n",
      "t 13\n",
      "t 14\n",
      "t 15\n",
      "t 16\n",
      "t 17\n",
      "t 18\n",
      "t 19\n",
      "t 20\n",
      "t 21\n",
      "t 22\n",
      "t 23\n",
      "t 24\n",
      "t 25\n",
      "t 26\n",
      "t 27\n",
      "t 28\n",
      "t 29\n",
      "t 30\n",
      "t 31\n",
      "t 32\n",
      "t 33\n",
      "t 34\n",
      "t 35\n",
      "t 36\n",
      "t 37\n",
      "t 38\n",
      "t 39\n",
      "t 40\n",
      "t 41\n",
      "t 42\n",
      "t 43\n",
      "t 44\n",
      "t 45\n",
      "t 46\n",
      "t 47\n",
      "t 48\n",
      "t 49\n",
      "t 50\n",
      "t 51\n",
      "t 52\n",
      "t 53\n",
      "t 54\n",
      "t 55\n",
      "t 56\n",
      "t 57\n",
      "t 58\n",
      "t 59\n",
      "t 60\n",
      "t 61\n",
      "t 62\n",
      "t 63\n",
      "t 64\n",
      "t 65\n",
      "t 66\n",
      "t 67\n",
      "t 68\n",
      "t 69\n",
      "t 70\n",
      "t 71\n",
      "t 72\n",
      "t 73\n",
      "t 74\n",
      "t 75\n",
      "t 76\n",
      "t 77\n",
      "t 78\n",
      "t 79\n",
      "t 80\n",
      "t 81\n",
      "t 82\n",
      "t 83\n",
      "t 84\n",
      "t 85\n",
      "t 86\n",
      "t 87\n",
      "t 88\n",
      "t 89\n",
      "t 90\n",
      "t 91\n",
      "t 92\n",
      "t 93\n",
      "t 94\n",
      "t 95\n",
      "t 96\n",
      "t 97\n",
      "t 98\n",
      "t 99\n",
      "t 100\n",
      "t 101\n",
      "t 102\n",
      "t 103\n",
      "t 104\n",
      "t 105\n",
      "t 106\n",
      "t 107\n",
      "t 108\n",
      "t 109\n",
      "t 110\n",
      "t 111\n",
      "t 112\n",
      "t 113\n",
      "t 114\n",
      "t 115\n",
      "t 116\n",
      "t 117\n",
      "t 118\n",
      "t 119\n"
     ]
    }
   ],
   "source": [
    "# compute V_omega, m_omega\n",
    "N_t = T\n",
    "x_new = np.random.uniform(-1,1, size=(N_t,d))\n",
    "kapa = np.ones(N_t) \n",
    "kapa[100:]=0\n",
    "kapa = kapa -0.5\n",
    "#print(kapa)\n",
    "\n",
    "for t in range(N_t):\n",
    "    print('t',t)\n",
    "    theta_t_m[t, 0] = theta_t[t-1]\n",
    "    for m in range(1, burn_in_steps):\n",
    "        if t==0 or t==1:\n",
    "            omega_vec = np.array([PG_distribution( x_new[t], theta_t_m[t, m-1] )])\n",
    "            V_omega = fun_V_omega(np.array([x_new[t]]), omega_vec)\n",
    "            m_omega = fun_m_omega(np.array([x_new[t]]), V_omega, np.array([kapa[0]]))\n",
    "        else:\n",
    "            omega_vec = np.zeros(t-1)\n",
    "            for i in range(t-1):\n",
    "                #print(i)\n",
    "                omega_vec[i] = PG_distribution( x_new[i], theta_t_m[t, m-1] )\n",
    "        #print('omega_vec',omega_vec)\n",
    "            #print(m)\n",
    "            V_omega = fun_V_omega(x_new[:(t-1)], omega_vec)\n",
    "            m_omega = fun_m_omega(x_new[:(t-1)], V_omega, kapa[:(t-1)])\n",
    "        #print('kapa',kapa[:(t-1)].shape)\n",
    "        #print('V_omega', V_omega.shape)\n",
    "        #print('m_omega', self.m_omega, 'kappa',kapa)\n",
    "        \n",
    "        theta_t_m[t,m, :] = np.random.multivariate_normal(abs(m_omega).flatten(), V_omega)\n",
    "    #print('theta_t_m', self.theta_t_m[t])\n",
    "\n",
    "    theta_t[t] = theta_t_m[t, -1]\n",
    "#print(theta_t.shape)"
   ]
  },
  {
   "cell_type": "code",
   "execution_count": 152,
   "metadata": {
    "collapsed": false
   },
   "outputs": [
    {
     "name": "stdout",
     "output_type": "stream",
     "text": [
      "(120, 2)\n",
      "[[-0.01842475 -0.01812315]\n",
      " [-0.07503002  0.08699747]\n",
      " [-0.14481465  0.06881535]\n",
      " [ 0.25856385 -0.16806094]\n",
      " [-0.08763424  0.05427468]]\n"
     ]
    }
   ],
   "source": [
    "print(theta_t.shape)\n",
    "print(theta_t[115:])"
   ]
  },
  {
   "cell_type": "code",
   "execution_count": 153,
   "metadata": {
    "collapsed": false,
    "scrolled": true
   },
   "outputs": [
    {
     "data": {
      "text/plain": [
       "array([[ 0.01403784, -0.00655696],\n",
       "       [-0.00655696,  0.00736446]])"
      ]
     },
     "execution_count": 153,
     "metadata": {},
     "output_type": "execute_result"
    }
   ],
   "source": [
    "# print(theta_t_m)\n",
    "V_omega"
   ]
  },
  {
   "cell_type": "code",
   "execution_count": 154,
   "metadata": {
    "collapsed": false,
    "scrolled": true
   },
   "outputs": [
    {
     "data": {
      "text/plain": [
       "array([[ 0.38959768, -0.2744251 ],\n",
       "       [ 0.69719487,  0.37790689],\n",
       "       [-0.34360799,  0.2194063 ],\n",
       "       [ 0.83534087, -0.18725723],\n",
       "       [ 0.72006021,  0.52053423]])"
      ]
     },
     "execution_count": 154,
     "metadata": {},
     "output_type": "execute_result"
    }
   ],
   "source": [
    "theta_t_m[:5,2]"
   ]
  },
  {
   "cell_type": "code",
   "execution_count": 155,
   "metadata": {
    "collapsed": false,
    "scrolled": true
   },
   "outputs": [
    {
     "data": {
      "text/plain": [
       "array([0.46169545, 0.13137847])"
      ]
     },
     "execution_count": 155,
     "metadata": {},
     "output_type": "execute_result"
    }
   ],
   "source": [
    "ind_max = theta_t.argmax()\n",
    "theta_t[ind_max]"
   ]
  },
  {
   "cell_type": "code",
   "execution_count": 85,
   "metadata": {
    "collapsed": false
   },
   "outputs": [
    {
     "data": {
      "text/plain": [
       "array([1.75668438, 0.98181469])"
      ]
     },
     "execution_count": 85,
     "metadata": {},
     "output_type": "execute_result"
    }
   ],
   "source": [
    "theta_t[theta_t[:,0].argmax()]"
   ]
  },
  {
   "cell_type": "code",
   "execution_count": 118,
   "metadata": {
    "collapsed": false,
    "scrolled": true
   },
   "outputs": [
    {
     "name": "stdout",
     "output_type": "stream",
     "text": [
      "(2,)\n"
     ]
    },
    {
     "data": {
      "text/plain": [
       "array([ 0.02375599, -0.00673786])"
      ]
     },
     "execution_count": 118,
     "metadata": {},
     "output_type": "execute_result"
    }
   ],
   "source": [
    "print(m_omega.shape)\n",
    "m_omega\n",
    "#np.sort(theta_t[:,0])"
   ]
  },
  {
   "cell_type": "code",
   "execution_count": 141,
   "metadata": {
    "collapsed": false
   },
   "outputs": [
    {
     "data": {
      "text/plain": [
       "[<matplotlib.lines.Line2D at 0x7f40702c82b0>]"
      ]
     },
     "execution_count": 141,
     "metadata": {},
     "output_type": "execute_result"
    },
    {
     "data": {
      "image/png": "[encoded data removed]",
      "text/plain": [
       "<Figure size 432x288 with 1 Axes>"
      ]
     },
     "metadata": {
      "needs_background": "light"
     },
     "output_type": "display_data"
    }
   ],
   "source": [
    "theta_t0 = np.sort(theta_t[:,1])\n",
    "plt.plot(theta_t0, norm.pdf(theta_t0))"
   ]
  },
  {
   "cell_type": "code",
   "execution_count": null,
   "metadata": {
    "collapsed": false
   },
   "outputs": [],
   "source": [
    "# def PG_distribution(x_, theta_):\n",
    "#     # Y ~ PG(1, z) <=> Y = X/4 where X ~ J*(1, z/2)\n",
    "#     x_ = x_.reshape(-1, d)\n",
    "#     accept = False\n",
    "#     omega_vect = np.zeros(x_.shape[0])\n",
    "#     for i in range(x_.shape[0]):\n",
    "#         z = x_[i].T.dot(theta_)\n",
    "#         print('x_i', x_[i])\n",
    "#         ite=0\n",
    "        \n",
    "#         #while not accept:\n",
    "#             # first step\n",
    "#         sample = compute_X_from_g(x_[i], z)\n",
    "#         #print('sample',sample)\n",
    "\n",
    "#         #second step\n",
    "#          # U ~ Unif(0, c_g_z)\n",
    "#         u = np.random.uniform(low=0, high= compute_c_g(sample, z))\n",
    "#         print('u',u)\n",
    "\n",
    "#         # third step\n",
    "#             #if (num % 2 == 0): #number is even \n",
    "#             #else: #number is odd \n",
    "#         Sn=0\n",
    "#         for n in range(50):\n",
    "#         #while \n",
    "#             Sn += (-1)**n * compute_a_n(sample, n)\n",
    "#             print('Sn',Sn)\n",
    "#             if (u <= Sn and n%2 !=0):\n",
    "#                 omega_vect[i] = sample/4\n",
    "#                 print(sample/4)\n",
    "#                 break\n",
    "#             #n +=1\n",
    "\n",
    "#     print(omega_vect.shape)\n",
    "#     return omega_vect"
   ]
  },
  {
   "cell_type": "code",
   "execution_count": null,
   "metadata": {
    "collapsed": false,
    "scrolled": true
   },
   "outputs": [],
   "source": []
  },
  {
   "cell_type": "code",
   "execution_count": null,
   "metadata": {
    "collapsed": false
   },
   "outputs": [],
   "source": [
    "# def pigauss(mu, lamb, born=0.64):\n",
    "#     part1 = norm.cdf( np.sqrt(lamb/born) * ((born/mu) - 1.) )\n",
    "#     part2 = np.exp(2*lamb/mu) * norm.cdf(- np.sqrt(lamb/born) * ((born/mu) + 1.) )\n",
    "#     cdf = part1 + part2\n",
    "#     return cdf\n",
    "# cdf = np.zeros(10)\n",
    "# j=0\n",
    "# for i in np.linspace(0,5,10):\n",
    "#     cdf[j] = pigauss(1,1, i)\n",
    "#     j+=1\n",
    "# plt.plot(cdf)"
   ]
  },
  {
   "cell_type": "code",
   "execution_count": null,
   "metadata": {
    "collapsed": true
   },
   "outputs": [],
   "source": []
  },
  {
   "cell_type": "code",
   "execution_count": null,
   "metadata": {
    "collapsed": true
   },
   "outputs": [],
   "source": []
  },
  {
   "cell_type": "code",
   "execution_count": null,
   "metadata": {
    "collapsed": true
   },
   "outputs": [],
   "source": []
  }
 ],
 "metadata": {
  "accelerator": "GPU",
  "colab": {
   "collapsed_sections": [],
   "name": "Notebook_Project - 25 April_real_data_n.ipynb",
   "provenance": [],
   "toc_visible": true,
   "version": "0.3.2"
  },
  "kernelspec": {
   "display_name": "Python 3",
   "language": "python",
   "name": "python3"
  },
  "language_info": {
   "codemirror_mode": {
    "name": "ipython",
    "version": 3
   },
   "file_extension": ".py",
   "mimetype": "text/x-python",
   "name": "python",
   "nbconvert_exporter": "python",
   "pygments_lexer": "ipython3",
   "version": "3.7.1"
  }
 },
 "nbformat": 4,
 "nbformat_minor": 0
}
