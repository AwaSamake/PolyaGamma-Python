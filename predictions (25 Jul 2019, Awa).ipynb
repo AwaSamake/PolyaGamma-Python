{
 "cells": [
  {
   "cell_type": "code",
   "execution_count": null,
   "metadata": {
    "collapsed": true
   },
   "outputs": [],
   "source": [
    "# Libraries\n",
    "import numpy as np\n"
   ]
  },
  {
   "cell_type": "code",
   "execution_count": null,
   "metadata": {
    "collapsed": true
   },
   "outputs": [],
   "source": [
    "#FUNCTION: return the logistic regression for multiple betas\n",
    "#PARAMETERS: X and beta_design are design matrices\n",
    "def logisticRegression(X, beta_design):\n",
    "    #check if X and beta_design are matrices\n",
    "    if (!(np.isarray(X)|np.isarray(X))) | (!(np.isarray(beta_design)|np.isarray(beta_design))):\n",
    "        #(!(is.matrix(X)|is.vector(X))) | (!(is.matrix(beta_design)|is.vector(beta_design))):\n",
    "        raise ValueError(\"Parameters in logisticRegression are not of the correct type\")\n",
    "    #end if\n",
    "    #get a matrix of etas\n",
    "    eta = beta_design @ X.T #beta_design %*% t(X);\n",
    "    #return logistic regression\n",
    "    p = 1 / (1+ np.exp(-eta))\n",
    "    return p\n",
    "#end logisticRegression\n",
    "\n",
    "#' Predict the y value for all data points,\n",
    "#' given  and the sample from posterior of betas\n",
    "#'\n",
    "#' @param X A design matrix.\n",
    "#' @param beta Sample from the posterior distribution of betas. Alternatively, could be a vector with estimated betas.\n",
    "#'\n",
    "#' @export\n",
    "def get_predictions(X, beta):\n",
    "    samples = logisticRegression(X, beta)\n",
    "    posterior_mean = np.mean(samples, axis=0) #colMeans(samples)\n",
    "    ypred = round(posterior_mean)\n",
    "    return ypred\n"
   ]
  },
  {
   "cell_type": "code",
   "execution_count": null,
   "metadata": {
    "collapsed": true
   },
   "outputs": [],
   "source": []
  }
 ],
 "metadata": {
  "kernelspec": {
   "display_name": "Python 3",
   "language": "python",
   "name": "python3"
  },
  "language_info": {
   "codemirror_mode": {
    "name": "ipython",
    "version": 3
   },
   "file_extension": ".py",
   "mimetype": "text/x-python",
   "name": "python",
   "nbconvert_exporter": "python",
   "pygments_lexer": "ipython3",
   "version": "3.7.1"
  }
 },
 "nbformat": 4,
 "nbformat_minor": 2
}
